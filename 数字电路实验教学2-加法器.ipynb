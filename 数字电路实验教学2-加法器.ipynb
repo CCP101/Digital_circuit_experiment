{
 "cells": [
  {
   "cell_type": "markdown",
   "metadata": {},
   "source": [
    "# 数字电路实验教学2-加法器电路\n",
    "\n",
    "----\n",
    "* [介绍](#介绍)\n",
    "* [半加器](#验证半加器的功能)\n",
    "* [全加器](#验证全加器的功能)\n",
    "\n",
    "----\n",
    "\n",
    "## 介绍\n",
    "\n",
    "本实验为加法器电路的实验，请将BASE SHEIELD连接到开发板上，并将LED BAR连接到BASE SHEIELD的D2端口，插入烧录了PYNQ镜像的SD卡到PYNQ-Z2开发板。\n"
   ]
  },
  {
   "cell_type": "markdown",
   "metadata": {},
   "source": [
    "初始化系统并导入相关库"
   ]
  },
  {
   "cell_type": "code",
   "execution_count": 1,
   "metadata": {},
   "outputs": [
    {
     "data": {
      "application/javascript": [
       "\n",
       "require(['notebook/js/codecell'], function(codecell) {\n",
       "  codecell.CodeCell.options_default.highlight_modes[\n",
       "      'magic_text/x-csrc'] = {'reg':[/^%%microblaze/]};\n",
       "  Jupyter.notebook.events.one('kernel_ready.Kernel', function(){\n",
       "      Jupyter.notebook.get_cells().map(function(cell){\n",
       "          if (cell.cell_type == 'code'){ cell.auto_highlight(); } }) ;\n",
       "  });\n",
       "});\n"
      ]
     },
     "metadata": {},
     "output_type": "display_data"
    }
   ],
   "source": [
    "from pynq.overlays.base import BaseOverlay\n",
    "from pynq.lib import LED, Switch, Button\n",
    "from pynq.lib.arduino import Grove_LEDbar\n",
    "from pynq.lib.arduino import ARDUINO_GROVE_G1 \n",
    "from pynq.lib.arduino import ARDUINO_GROVE_G4\n",
    "import time\n",
    "import summation_meter as sm\n",
    "\n",
    "base = BaseOverlay(\"base.bit\")\n",
    "\n",
    "ledbar = Grove_LEDbar(base.ARDUINO,ARDUINO_GROVE_G1)\n",
    "ledbar.reset()\n"
   ]
  },
  {
   "cell_type": "markdown",
   "metadata": {},
   "source": [
    "初始化按键及LED灯"
   ]
  },
  {
   "cell_type": "code",
   "execution_count": 2,
   "metadata": {},
   "outputs": [],
   "source": [
    "MAX_LEDS =4\n",
    "MAX_BUTTONS = 4\n",
    "\n",
    "leds = [base.leds[index] for index in range(MAX_LEDS)]\n",
    "buttons = [base.buttons[index] for index in range(MAX_BUTTONS)] "
   ]
  },
  {
   "cell_type": "markdown",
   "metadata": {},
   "source": [
    "初始化LED BAR"
   ]
  },
  {
   "cell_type": "code",
   "execution_count": 3,
   "metadata": {},
   "outputs": [],
   "source": [
    "HIGH = 0xFF\n",
    "MED  = 0xAA\n",
    "LOW  = 0x01\n",
    "OFF  = 0X00\n",
    "\n",
    "brightness_ON = [HIGH, HIGH, HIGH, HIGH, HIGH,HIGH, HIGH, HIGH, HIGH, HIGH]\n",
    "brightness_OFF = [OFF, OFF, OFF, OFF, OFF, OFF,  OFF, OFF,  OFF, OFF]"
   ]
  },
  {
   "cell_type": "markdown",
   "metadata": {},
   "source": [
    "## 验证半加器的功能\n",
    "\n",
    "按下BTN0 切换状态 LED0亮为1 灭为0  \n",
    "按下BTN1 切换状态 LED0亮为1 灭为0  \n",
    "按下BTN3 退出实验  \n",
    "\n",
    "半加器的功能是将两个一位二进制数相加。它有两个输出：\n",
    "\n",
    "和：记作 S，来自对应的英语 Sum；  \n",
    "进位：记作 C，来自对应的英语 Carry一位的数字。因此，这两个一位二进制数的和用十进制表示即等于2C + S。右图是一个最简单的半加器设计，使用一个异或门来产生 S，一个与门来产生 C。和 S 的布尔逻辑是 A'B+AB'，进位 C 的布尔逻辑是 AB。如果再添加一个或门处理两个半加器的进位信号，就构成了一个全加器。\n",
    "\n",
    "半加器将两个输入位加和，产生进位与和，是半加器的两个输出。半加器的输入变量叫做被加数或被加位。输出变量为和与进位。\n",
    "\n",
    "半加器的真值表如图：\n",
    "![半加器真值表](./pic2/1.jpg)"
   ]
  },
  {
   "cell_type": "code",
   "execution_count": 4,
   "metadata": {},
   "outputs": [],
   "source": [
    "sm.half_adder(ledbar,buttons,leds)"
   ]
  },
  {
   "cell_type": "markdown",
   "metadata": {},
   "source": [
    "## 验证全加器的功能\n",
    "\n",
    "按下BTN0 切换状态 LED0亮为1 灭为0  \n",
    "按下BTN1 切换状态 LED0亮为1 灭为0  \n",
    "按下BTN2 切换状态 LED0亮为1 灭为0 \n",
    "按下BTN3 退出实验 \n",
    "\n",
    "全加器（full adder）将两个一位二进制数相加，并根据接收到的低位进位信号，输出和、进位输出。全加器的三个输入信号为两个加数A、B和低位进位Cin。[3]全加器通常可以通过级联（cascade）的方式，构成多位（如8位、16位、32位）二进制数加法器的基本部分。全加器的输出和半加器类似，包括向高位的进位信号Cout和本位的和信号S。\n",
    "\n",
    "一位全加器的真值表如图：\n",
    "![一位全加器真值表](./pic2/2.jpg)"
   ]
  },
  {
   "cell_type": "code",
   "execution_count": 5,
   "metadata": {},
   "outputs": [],
   "source": [
    "sm.full_adder(ledbar,buttons,leds)"
   ]
  },
  {
   "cell_type": "code",
   "execution_count": null,
   "metadata": {},
   "outputs": [],
   "source": []
  }
 ],
 "metadata": {
  "kernelspec": {
   "display_name": "Python 3",
   "language": "python",
   "name": "python3"
  },
  "language_info": {
   "codemirror_mode": {
    "name": "ipython",
    "version": 3
   },
   "file_extension": ".py",
   "mimetype": "text/x-python",
   "name": "python",
   "nbconvert_exporter": "python",
   "pygments_lexer": "ipython3",
   "version": "3.6.5"
  }
 },
 "nbformat": 4,
 "nbformat_minor": 2
}
