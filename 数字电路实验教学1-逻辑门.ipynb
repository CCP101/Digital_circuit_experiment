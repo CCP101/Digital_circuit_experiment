{
 "cells": [
  {
   "cell_type": "markdown",
   "metadata": {},
   "source": [
    "# 数字电路实验教学1-逻辑门电路\n",
    "\n",
    "----\n",
    "* [介绍](#介绍)\n",
    "* [非门](#验证非门的功能)\n",
    "* [与门](#验证与门的功能)\n",
    "* [或门](#验证或门的功能)\n",
    "* [与非门](#验证与非门的功能)\n",
    "* [或非门](#验证或非门的功能)\n",
    "* [异或门](#验证异或门的功能)\n",
    "----\n",
    "\n",
    "## 介绍\n",
    "\n",
    "本实验为基础逻辑门电路的实验，请将BASE SHEIELD连接到开发板上，并将LED BAR连接到BASE SHEIELD的D2端口，插入烧录了PYNQ镜像的SD卡到PYNQ-Z2开发板。\n",
    "\n"
   ]
  },
  {
   "cell_type": "markdown",
   "metadata": {},
   "source": [
    "初始化系统并导入相关库"
   ]
  },
  {
   "cell_type": "code",
   "execution_count": 7,
   "metadata": {},
   "outputs": [],
   "source": [
    "from pynq.overlays.base import BaseOverlay\n",
    "from pynq.lib import LED, Switch, Button\n",
    "from pynq.lib.arduino import Grove_LEDbar\n",
    "from pynq.lib.arduino import ARDUINO_GROVE_G1 \n",
    "from pynq.lib.arduino import ARDUINO_GROVE_G4\n",
    "import time\n",
    "\n",
    "base = BaseOverlay(\"base.bit\")\n",
    "\n",
    "ledbar = Grove_LEDbar(base.ARDUINO,ARDUINO_GROVE_G1)\n",
    "ledbar.reset()\n"
   ]
  },
  {
   "cell_type": "markdown",
   "metadata": {},
   "source": [
    "初始化按键及LED灯"
   ]
  },
  {
   "cell_type": "code",
   "execution_count": 8,
   "metadata": {},
   "outputs": [],
   "source": [
    "MAX_LEDS =4\n",
    "MAX_BUTTONS = 4\n",
    "\n",
    "leds = [base.leds[index] for index in range(MAX_LEDS)]\n",
    "buttons = [base.buttons[index] for index in range(MAX_BUTTONS)] "
   ]
  },
  {
   "cell_type": "markdown",
   "metadata": {},
   "source": [
    "初始化LED BAR"
   ]
  },
  {
   "cell_type": "code",
   "execution_count": 9,
   "metadata": {},
   "outputs": [],
   "source": [
    "HIGH = 0xFF\n",
    "MED  = 0xAA\n",
    "LOW  = 0x01\n",
    "OFF  = 0X00\n",
    "\n",
    "brightness_ON = [HIGH, HIGH, HIGH, HIGH, HIGH,HIGH, HIGH, HIGH, HIGH, HIGH]\n",
    "brightness_OFF = [OFF, OFF, OFF, OFF, OFF, OFF,  OFF, OFF,  OFF, OFF]"
   ]
  },
  {
   "cell_type": "markdown",
   "metadata": {},
   "source": [
    "## 验证非门的功能  \n",
    "\n",
    "按下BTN0 切换状态 LED0亮为1 灭为0  \n",
    "按下BTN3 退出实验  \n",
    "\n",
    "实现逻辑代数非的功能，即输出始终和输入保持相反。当输入端为高电平（逻辑“1”）时，输出端为低电平（逻辑“0”）；反之，当输入端为低电平（逻辑“0”）时，输出端则为高电平（逻辑“1”）。\n",
    "\n",
    "非门真值表如图：\n",
    "![非门真值表](./pic1/1.jpg)"
   ]
  },
  {
   "cell_type": "code",
   "execution_count": 10,
   "metadata": {},
   "outputs": [
    {
     "ename": "KeyboardInterrupt",
     "evalue": "",
     "output_type": "error",
     "traceback": [
      "\u001b[0;31m---------------------------------------------------------------------------\u001b[0m",
      "\u001b[0;31mKeyboardInterrupt\u001b[0m                         Traceback (most recent call last)",
      "\u001b[0;32m<ipython-input-10-8f3ef564ff59>\u001b[0m in \u001b[0;36m<module>\u001b[0;34m()\u001b[0m\n\u001b[1;32m     13\u001b[0m     \u001b[0;32melse\u001b[0m\u001b[0;34m:\u001b[0m\u001b[0;34m\u001b[0m\u001b[0m\n\u001b[1;32m     14\u001b[0m         \u001b[0mledbar\u001b[0m\u001b[0;34m.\u001b[0m\u001b[0mwrite_brightness\u001b[0m\u001b[0;34m(\u001b[0m\u001b[0;36m0b0000000000\u001b[0m\u001b[0;34m)\u001b[0m\u001b[0;34m\u001b[0m\u001b[0m\n\u001b[0;32m---> 15\u001b[0;31m         \u001b[0mtime\u001b[0m\u001b[0;34m.\u001b[0m\u001b[0msleep\u001b[0m\u001b[0;34m(\u001b[0m\u001b[0;36m.1\u001b[0m\u001b[0;34m)\u001b[0m\u001b[0;34m\u001b[0m\u001b[0m\n\u001b[0m\u001b[1;32m     16\u001b[0m     \u001b[0;32mif\u001b[0m \u001b[0;34m(\u001b[0m\u001b[0mbuttons\u001b[0m\u001b[0;34m[\u001b[0m\u001b[0;36m3\u001b[0m\u001b[0;34m]\u001b[0m\u001b[0;34m.\u001b[0m\u001b[0mread\u001b[0m\u001b[0;34m(\u001b[0m\u001b[0;34m)\u001b[0m\u001b[0;34m==\u001b[0m\u001b[0;36m1\u001b[0m\u001b[0;34m)\u001b[0m\u001b[0;34m:\u001b[0m\u001b[0;34m\u001b[0m\u001b[0m\n\u001b[1;32m     17\u001b[0m         \u001b[0mdone\u001b[0m \u001b[0;34m=\u001b[0m \u001b[0;32mTrue\u001b[0m\u001b[0;34m\u001b[0m\u001b[0m\n",
      "\u001b[0;31mKeyboardInterrupt\u001b[0m: "
     ]
    }
   ],
   "source": [
    "done = False\n",
    "led_state0 = False\n",
    "led_state1 = False\n",
    "ledbar.reset()\n",
    "while not done:\n",
    "    if (buttons[0].read()==1):\n",
    "        led_state0 = not led_state0\n",
    "        leds[0].toggle() \n",
    "        time.sleep(.3)\n",
    "    if (led_state0 == True):\n",
    "        ledbar.write_brightness(0b1111111111)\n",
    "        time.sleep(.1)\n",
    "    else:\n",
    "        ledbar.write_brightness(0b0000000000)\n",
    "        time.sleep(.1)\n",
    "    if (buttons[3].read()==1):\n",
    "        done = True\n",
    "        for i in leds:\n",
    "            i.off()\n",
    "        ledbar.reset()"
   ]
  },
  {
   "cell_type": "markdown",
   "metadata": {},
   "source": [
    "## 验证与门的功能\n",
    "\n",
    "按下BTN0 切换状态 LED0亮为1 灭为0  \n",
    "按下BTN1 切换状态 LED0亮为1 灭为0  \n",
    "按下BTN3 退出实验  \n",
    "\n",
    "与门是实现逻辑“乘”运算的电路，有两个以上输入端,一个输出端(一般电路都只有一个输出端,ECL电路则有二个输出端)。只有当所有输入端都是高电平（逻辑“1”）时,该电路输出才是高电平（逻辑“1”）,否则输出为低电平（逻辑“0”）。\n",
    "\n",
    "与门真值表如图：  \n",
    "![与门真值表](./pic1/2.jpg)"
   ]
  },
  {
   "cell_type": "code",
   "execution_count": null,
   "metadata": {},
   "outputs": [],
   "source": [
    "done = False\n",
    "led_state0 = False\n",
    "led_state1 = False\n",
    "ledbar.reset()\n",
    "while not done:\n",
    "    if (buttons[0].read()==1):\n",
    "        led_state0 = not led_state0\n",
    "        leds[0].toggle() \n",
    "        time.sleep(.3)\n",
    "    if (buttons[1].read()==1):\n",
    "        led_state1 = not led_state1\n",
    "        leds[1].toggle() \n",
    "        time.sleep(.3)\n",
    "    if (led_state0 == True and led_state1 == True):\n",
    "        ledbar.write_brightness(0b1111111111)\n",
    "        time.sleep(.1)\n",
    "    else:\n",
    "        ledbar.write_brightness(0b0000000000)\n",
    "        time.sleep(.1)\n",
    "    if (buttons[3].read()==1):\n",
    "        done = True\n",
    "        for i in leds:\n",
    "            i.off()\n",
    "        ledbar.reset()"
   ]
  },
  {
   "cell_type": "markdown",
   "metadata": {},
   "source": [
    "## 验证或门的功能  \n",
    "\n",
    "按下BTN0 切换状态 LED0亮为1 灭为0  \n",
    "按下BTN1 切换状态 LED0亮为1 灭为0  \n",
    "按下BTN3 退出实验  \n",
    "\n",
    "或门是实现逻辑加的电路,又称逻辑和电路,简称或门。此电路有两个以上输入端,一个输出端。只要有一个或几个输入端是 “1”,或门的输出即为 “1”。而只有所有输入端为 “0”时,输出才为 “0” 。\n",
    "\n",
    "或门真值表如图：  \n",
    "![或门真值表](./pic1/3.jpg)"
   ]
  },
  {
   "cell_type": "code",
   "execution_count": null,
   "metadata": {},
   "outputs": [],
   "source": [
    "done = False\n",
    "led_state0 = False\n",
    "led_state1 = False\n",
    "ledbar.reset()\n",
    "while not done:\n",
    "    if (buttons[0].read()==1):\n",
    "        led_state0 = not led_state0\n",
    "        leds[0].toggle() \n",
    "        time.sleep(.3)\n",
    "    if (buttons[1].read()==1):\n",
    "        led_state1 = not led_state1\n",
    "        leds[1].toggle() \n",
    "        time.sleep(.3)\n",
    "    if (led_state0 == True or led_state1 == True):\n",
    "        ledbar.write_brightness(0b1111111111)\n",
    "        time.sleep(.1)\n",
    "    else:\n",
    "        ledbar.write_brightness(0b0000000000)\n",
    "        time.sleep(.1)\n",
    "    if (buttons[3].read()==1):\n",
    "        done = True\n",
    "        for i in leds:\n",
    "            i.off()\n",
    "        ledbar.reset()"
   ]
  },
  {
   "cell_type": "markdown",
   "metadata": {},
   "source": [
    "## 验证与非门的功能  \n",
    "\n",
    "按下BTN0 切换状态 LED0亮为1 灭为0  \n",
    "按下BTN1 切换状态 LED0亮为1 灭为0  \n",
    "按下BTN3 退出实验  \n",
    "\n",
    "与非门是与门和非门的结合，先进行与运算，再进行非运算。与非运算输入要求有两个，如果输入都用0和1表示的话，那么与运算的结果就是这两个数的乘积。如1和1（两端都有信号），则输出为0；1和0，则输出为1；0和0，则输出为1。与非门的结果就是对两个输入信号先进行与运算，再对此与运算结果进行非运算的结果。简单说，与非与非，就是先与后非。\n",
    "\n",
    "与非门真值表如图：  \n",
    "![与非门真值表](./pic1/4.jpg)"
   ]
  },
  {
   "cell_type": "code",
   "execution_count": null,
   "metadata": {},
   "outputs": [],
   "source": [
    "done = False\n",
    "led_state0 = False\n",
    "led_state1 = False\n",
    "ledbar.reset()\n",
    "while not done:\n",
    "    if (buttons[0].read()==1):\n",
    "        led_state0 = not led_state0\n",
    "        leds[0].toggle() \n",
    "        time.sleep(.3)\n",
    "    if (buttons[1].read()==1):\n",
    "        led_state1 = not led_state1\n",
    "        leds[1].toggle() \n",
    "        time.sleep(.3)\n",
    "    if (led_state0 == False or led_state1 == False):\n",
    "        ledbar.write_brightness(0b1111111111)\n",
    "        time.sleep(.1)\n",
    "    else:\n",
    "        ledbar.write_brightness(0b0000000000)\n",
    "        time.sleep(.1)\n",
    "    if (buttons[3].read()==1):\n",
    "        done = True\n",
    "        for i in leds:\n",
    "            i.off()\n",
    "        ledbar.reset()"
   ]
  },
  {
   "cell_type": "markdown",
   "metadata": {},
   "source": [
    "## 验证或非门的功能  \n",
    "\n",
    "按下BTN0 切换状态 LED0亮为1 灭为0  \n",
    "按下BTN1 切换状态 LED0亮为1 灭为0  \n",
    "按下BTN3 退出实验  \n",
    "\n",
    "或非门是具有多端输入和单端输出的门电路。当任一输入端(或多端)为高电平（逻辑“1”）时，输出就是低电平（逻辑“0”）；只有当所有输入端都是低电平（逻辑“0”）时，输出才是高电平（逻辑“1”）\n",
    "\n",
    "或非门真值表如图：  \n",
    "![或非门真值表](./pic1/5.jpg)"
   ]
  },
  {
   "cell_type": "code",
   "execution_count": 8,
   "metadata": {},
   "outputs": [],
   "source": [
    "done = False\n",
    "led_state0 = False\n",
    "led_state1 = False\n",
    "ledbar.reset()\n",
    "while not done:\n",
    "    if (buttons[0].read()==1):\n",
    "        led_state0 = not led_state0\n",
    "        leds[0].toggle() \n",
    "        time.sleep(.3)\n",
    "    if (buttons[1].read()==1):\n",
    "        led_state1 = not led_state1\n",
    "        leds[1].toggle() \n",
    "        time.sleep(.3)\n",
    "    if (led_state0 == False and led_state1 == False):\n",
    "        ledbar.write_brightness(0b1111111111)\n",
    "        time.sleep(.1)\n",
    "    else:\n",
    "        ledbar.write_brightness(0b0000000000)\n",
    "        time.sleep(.1)\n",
    "    if (buttons[3].read()==1):\n",
    "        done = True\n",
    "        for i in leds:\n",
    "            i.off()\n",
    "        ledbar.reset()"
   ]
  },
  {
   "cell_type": "markdown",
   "metadata": {},
   "source": [
    "## 验证异或门的功能  \n",
    "\n",
    "按下BTN0 切换状态 LED0亮为1 灭为0  \n",
    "按下BTN1 切换状态 LED0亮为1 灭为0  \n",
    "按下BTN3 退出实验  \n",
    "\n",
    "“异或逻辑”关系是指：当两个逻辑自变量取值相异时，函数为1;反之，当自变量取值相同时，函数为0。或者说：当两个输入信号相异时有输出，而相同时没有输出。\n",
    "\n",
    "或非门真值表如图：  \n",
    "![异或门真值表](./pic1/6.jpg)"
   ]
  },
  {
   "cell_type": "code",
   "execution_count": null,
   "metadata": {},
   "outputs": [],
   "source": [
    "done = False\n",
    "led_state0 = False\n",
    "led_state1 = False\n",
    "ledbar.reset()\n",
    "while not done:\n",
    "    if (buttons[0].read()==1):\n",
    "        led_state0 = not led_state0\n",
    "        leds[0].toggle() \n",
    "        time.sleep(.3)\n",
    "    if (buttons[1].read()==1):\n",
    "        led_state1 = not led_state1\n",
    "        leds[1].toggle() \n",
    "        time.sleep(.3)\n",
    "    if (led_state0 != led_state1):\n",
    "        ledbar.write_brightness(0b1111111111)\n",
    "        time.sleep(.1)\n",
    "    else:\n",
    "        ledbar.write_brightness(0b0000000000)\n",
    "        time.sleep(.1)\n",
    "    if (buttons[3].read()==1):\n",
    "        done = True\n",
    "        for i in leds:\n",
    "            i.off()\n",
    "        ledbar.reset()"
   ]
  }
 ],
 "metadata": {
  "kernelspec": {
   "display_name": "Python 3",
   "language": "python",
   "name": "python3"
  },
  "language_info": {
   "codemirror_mode": {
    "name": "ipython",
    "version": 3
   },
   "file_extension": ".py",
   "mimetype": "text/x-python",
   "name": "python",
   "nbconvert_exporter": "python",
   "pygments_lexer": "ipython3",
   "version": "3.6.5"
  }
 },
 "nbformat": 4,
 "nbformat_minor": 2
}
