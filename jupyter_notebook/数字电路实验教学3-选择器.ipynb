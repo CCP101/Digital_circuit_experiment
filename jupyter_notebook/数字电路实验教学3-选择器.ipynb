{
 "cells": [
  {
   "cell_type": "markdown",
   "metadata": {},
   "source": [
    "# 数字电路实验教学3-选择器电路\n",
    "\n",
    "----\n",
    "* [介绍](#介绍)\n",
    "* [选择器](#验证选择器的功能)\n",
    "\n",
    "----\n",
    "\n",
    "## 介绍\n",
    "\n",
    "本实验为选择器电路的实验，请将BASE SHEIELD连接到开发板上，并将LED BAR连接到BASE SHEIELD的D2端口，插入烧录了PYNQ镜像的SD卡到PYNQ-Z2开发板。\n",
    "\n"
   ]
  },
  {
   "cell_type": "code",
   "execution_count": 1,
   "metadata": {},
   "outputs": [
    {
     "data": {
      "application/javascript": [
       "\n",
       "require(['notebook/js/codecell'], function(codecell) {\n",
       "  codecell.CodeCell.options_default.highlight_modes[\n",
       "      'magic_text/x-csrc'] = {'reg':[/^%%microblaze/]};\n",
       "  Jupyter.notebook.events.one('kernel_ready.Kernel', function(){\n",
       "      Jupyter.notebook.get_cells().map(function(cell){\n",
       "          if (cell.cell_type == 'code'){ cell.auto_highlight(); } }) ;\n",
       "  });\n",
       "});\n"
      ]
     },
     "metadata": {},
     "output_type": "display_data"
    }
   ],
   "source": [
    "from pynq.overlays.base import BaseOverlay\n",
    "from pynq.lib import LED, Switch, Button\n",
    "from pynq.lib.arduino import Grove_LEDbar\n",
    "from pynq.lib.arduino import ARDUINO_GROVE_G1 \n",
    "from pynq.lib.arduino import ARDUINO_GROVE_G4\n",
    "import time\n",
    "import multiplexer as mp\n",
    "\n",
    "base = BaseOverlay(\"base.bit\")\n",
    "\n",
    "ledbar = Grove_LEDbar(base.ARDUINO,ARDUINO_GROVE_G1)\n",
    "ledbar.reset()\n"
   ]
  },
  {
   "cell_type": "markdown",
   "metadata": {},
   "source": [
    "初始化按键及LED灯"
   ]
  },
  {
   "cell_type": "code",
   "execution_count": 2,
   "metadata": {},
   "outputs": [],
   "source": [
    "MAX_LEDS =4\n",
    "MAX_BUTTONS = 4\n",
    "\n",
    "leds = [base.leds[index] for index in range(MAX_LEDS)]\n",
    "buttons = [base.buttons[index] for index in range(MAX_BUTTONS)] "
   ]
  },
  {
   "cell_type": "markdown",
   "metadata": {},
   "source": [
    "初始化LED BAR"
   ]
  },
  {
   "cell_type": "code",
   "execution_count": 3,
   "metadata": {},
   "outputs": [],
   "source": [
    "HIGH = 0xFF\n",
    "MED  = 0xAA\n",
    "LOW  = 0x01\n",
    "OFF  = 0X00\n",
    "\n",
    "brightness_ON = [HIGH, HIGH, HIGH, HIGH, HIGH,HIGH, HIGH, HIGH, HIGH, HIGH]\n",
    "brightness_OFF = [OFF, OFF, OFF, OFF, OFF, OFF,  OFF, OFF,  OFF, OFF]"
   ]
  },
  {
   "cell_type": "markdown",
   "metadata": {},
   "source": [
    "## 验证选择器的功能\n",
    "\n",
    "按下BTN0 切换状态 LED0亮为1 灭为0  \n",
    "按下BTN1 切换状态 LED0亮为1 灭为0  \n",
    "按下BTN2 切换状态 LED0亮为1 灭为0   \n",
    "按下BTN3 退出实验  \n",
    "\n",
    "在数字电路设计中，选择端的输入信号是数字信号.在2选1数据选择器的例子中,选择端输入低电平0，则输出引脚会输出 I0上的输入信号；反之，当选择端输入高电平1，则输出引脚会输出T1上的输入信号。当输入引脚的数目更多时，情况与上面类似，不过所需的选择端引脚数目变为 [log2(n)] 个，这里n是输入引脚的个数。\n",
    "\n",
    "选择器真值表如图：\n",
    "![选择器真值表](./pic3/1.jpg)"
   ]
  },
  {
   "cell_type": "code",
   "execution_count": 4,
   "metadata": {},
   "outputs": [],
   "source": [
    "mp.mux(ledbar,buttons,leds)"
   ]
  },
  {
   "cell_type": "code",
   "execution_count": null,
   "metadata": {},
   "outputs": [],
   "source": []
  }
 ],
 "metadata": {
  "kernelspec": {
   "display_name": "Python 3",
   "language": "python",
   "name": "python3"
  },
  "language_info": {
   "codemirror_mode": {
    "name": "ipython",
    "version": 3
   },
   "file_extension": ".py",
   "mimetype": "text/x-python",
   "name": "python",
   "nbconvert_exporter": "python",
   "pygments_lexer": "ipython3",
   "version": "3.6.5"
  }
 },
 "nbformat": 4,
 "nbformat_minor": 2
}
